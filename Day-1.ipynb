{
 "cells": [
  {
   "cell_type": "markdown",
   "id": "0b4a5229",
   "metadata": {},
   "source": [
    "# ML workshop"
   ]
  },
  {
   "cell_type": "markdown",
   "id": "627ec195",
   "metadata": {},
   "source": [
    "### welcome machine learning workshop online\n",
    "- introduction machine learning\n",
    "    - **machine learning** is a sub part of AI.\n",
    "- types of machine learning\n",
    "    - supervised\n",
    "        - classification\n",
    "        - regression\n",
    "    - unsupervised\n",
    "        - clusterrng\n",
    "        - pca\n",
    " <img src=\"https://mk0wittysparksm75pi6.kinstacdn.com/wp-content/uploads/2017/08/Machine-Learning-1024x640.jpg\">"
   ]
  },
  {
   "cell_type": "code",
   "execution_count": null,
   "id": "4a362b92",
   "metadata": {},
   "outputs": [],
   "source": []
  }
 ],
 "metadata": {
  "kernelspec": {
   "display_name": "Python 3",
   "language": "python",
   "name": "python3"
  },
  "language_info": {
   "codemirror_mode": {
    "name": "ipython",
    "version": 3
   },
   "file_extension": ".py",
   "mimetype": "text/x-python",
   "name": "python",
   "nbconvert_exporter": "python",
   "pygments_lexer": "ipython3",
   "version": "3.8.5"
  }
 },
 "nbformat": 4,
 "nbformat_minor": 5
}
